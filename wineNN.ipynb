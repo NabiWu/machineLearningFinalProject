{
 "cells": [
  {
   "cell_type": "code",
   "execution_count": 1,
   "metadata": {},
   "outputs": [],
   "source": [
    "import numpy as np\n",
    "import pandas as pd\n",
    "import matplotlib\n",
    "import matplotlib.pyplot as plt\n",
    "import tensorflow as tf\n",
    "import operator\n",
    "import time\n",
    "%matplotlib inline"
   ]
  },
  {
   "cell_type": "code",
   "execution_count": 2,
   "metadata": {},
   "outputs": [],
   "source": [
    "# The following lines you can ignore. It was needed to properly use the current version of Tensorflow on my Macbook \n",
    "# due to issues with OpenMP. Leaving here in case it's useful for others.\n",
    "# import os\n",
    "# os.environ['KMP_DUPLICATE_LIB_OK']='True'"
   ]
  },
  {
   "cell_type": "code",
   "execution_count": 3,
   "metadata": {},
   "outputs": [],
   "source": [
    "dfRed = pd.read_csv('winequality-red.csv', sep=';', header=0)\n",
    "dfWhite = pd.read_csv('winequality-white.csv', sep=';', header=0)"
   ]
  },
  {
   "cell_type": "code",
   "execution_count": 4,
   "metadata": {},
   "outputs": [
    {
     "data": {
      "text/html": [
       "<div>\n",
       "<style scoped>\n",
       "    .dataframe tbody tr th:only-of-type {\n",
       "        vertical-align: middle;\n",
       "    }\n",
       "\n",
       "    .dataframe tbody tr th {\n",
       "        vertical-align: top;\n",
       "    }\n",
       "\n",
       "    .dataframe thead th {\n",
       "        text-align: right;\n",
       "    }\n",
       "</style>\n",
       "<table border=\"1\" class=\"dataframe\">\n",
       "  <thead>\n",
       "    <tr style=\"text-align: right;\">\n",
       "      <th></th>\n",
       "      <th>fixed acidity</th>\n",
       "      <th>volatile acidity</th>\n",
       "      <th>citric acid</th>\n",
       "      <th>residual sugar</th>\n",
       "      <th>chlorides</th>\n",
       "      <th>free sulfur dioxide</th>\n",
       "      <th>total sulfur dioxide</th>\n",
       "      <th>density</th>\n",
       "      <th>pH</th>\n",
       "      <th>sulphates</th>\n",
       "      <th>alcohol</th>\n",
       "      <th>quality</th>\n",
       "    </tr>\n",
       "  </thead>\n",
       "  <tbody>\n",
       "    <tr>\n",
       "      <th>0</th>\n",
       "      <td>7.0</td>\n",
       "      <td>0.27</td>\n",
       "      <td>0.36</td>\n",
       "      <td>20.7</td>\n",
       "      <td>0.045</td>\n",
       "      <td>45.0</td>\n",
       "      <td>170.0</td>\n",
       "      <td>1.0010</td>\n",
       "      <td>3.00</td>\n",
       "      <td>0.45</td>\n",
       "      <td>8.8</td>\n",
       "      <td>6</td>\n",
       "    </tr>\n",
       "    <tr>\n",
       "      <th>1</th>\n",
       "      <td>6.3</td>\n",
       "      <td>0.30</td>\n",
       "      <td>0.34</td>\n",
       "      <td>1.6</td>\n",
       "      <td>0.049</td>\n",
       "      <td>14.0</td>\n",
       "      <td>132.0</td>\n",
       "      <td>0.9940</td>\n",
       "      <td>3.30</td>\n",
       "      <td>0.49</td>\n",
       "      <td>9.5</td>\n",
       "      <td>6</td>\n",
       "    </tr>\n",
       "    <tr>\n",
       "      <th>2</th>\n",
       "      <td>8.1</td>\n",
       "      <td>0.28</td>\n",
       "      <td>0.40</td>\n",
       "      <td>6.9</td>\n",
       "      <td>0.050</td>\n",
       "      <td>30.0</td>\n",
       "      <td>97.0</td>\n",
       "      <td>0.9951</td>\n",
       "      <td>3.26</td>\n",
       "      <td>0.44</td>\n",
       "      <td>10.1</td>\n",
       "      <td>6</td>\n",
       "    </tr>\n",
       "    <tr>\n",
       "      <th>3</th>\n",
       "      <td>7.2</td>\n",
       "      <td>0.23</td>\n",
       "      <td>0.32</td>\n",
       "      <td>8.5</td>\n",
       "      <td>0.058</td>\n",
       "      <td>47.0</td>\n",
       "      <td>186.0</td>\n",
       "      <td>0.9956</td>\n",
       "      <td>3.19</td>\n",
       "      <td>0.40</td>\n",
       "      <td>9.9</td>\n",
       "      <td>6</td>\n",
       "    </tr>\n",
       "    <tr>\n",
       "      <th>4</th>\n",
       "      <td>7.2</td>\n",
       "      <td>0.23</td>\n",
       "      <td>0.32</td>\n",
       "      <td>8.5</td>\n",
       "      <td>0.058</td>\n",
       "      <td>47.0</td>\n",
       "      <td>186.0</td>\n",
       "      <td>0.9956</td>\n",
       "      <td>3.19</td>\n",
       "      <td>0.40</td>\n",
       "      <td>9.9</td>\n",
       "      <td>6</td>\n",
       "    </tr>\n",
       "  </tbody>\n",
       "</table>\n",
       "</div>"
      ],
      "text/plain": [
       "   fixed acidity  volatile acidity  citric acid  residual sugar  chlorides  \\\n",
       "0            7.0              0.27         0.36            20.7      0.045   \n",
       "1            6.3              0.30         0.34             1.6      0.049   \n",
       "2            8.1              0.28         0.40             6.9      0.050   \n",
       "3            7.2              0.23         0.32             8.5      0.058   \n",
       "4            7.2              0.23         0.32             8.5      0.058   \n",
       "\n",
       "   free sulfur dioxide  total sulfur dioxide  density    pH  sulphates  \\\n",
       "0                 45.0                 170.0   1.0010  3.00       0.45   \n",
       "1                 14.0                 132.0   0.9940  3.30       0.49   \n",
       "2                 30.0                  97.0   0.9951  3.26       0.44   \n",
       "3                 47.0                 186.0   0.9956  3.19       0.40   \n",
       "4                 47.0                 186.0   0.9956  3.19       0.40   \n",
       "\n",
       "   alcohol  quality  \n",
       "0      8.8        6  \n",
       "1      9.5        6  \n",
       "2     10.1        6  \n",
       "3      9.9        6  \n",
       "4      9.9        6  "
      ]
     },
     "execution_count": 4,
     "metadata": {},
     "output_type": "execute_result"
    }
   ],
   "source": [
    "dfWhite.head()"
   ]
  },
  {
   "cell_type": "code",
   "execution_count": 5,
   "metadata": {},
   "outputs": [
    {
     "data": {
      "text/html": [
       "<div>\n",
       "<style scoped>\n",
       "    .dataframe tbody tr th:only-of-type {\n",
       "        vertical-align: middle;\n",
       "    }\n",
       "\n",
       "    .dataframe tbody tr th {\n",
       "        vertical-align: top;\n",
       "    }\n",
       "\n",
       "    .dataframe thead th {\n",
       "        text-align: right;\n",
       "    }\n",
       "</style>\n",
       "<table border=\"1\" class=\"dataframe\">\n",
       "  <thead>\n",
       "    <tr style=\"text-align: right;\">\n",
       "      <th></th>\n",
       "      <th>fixed acidity</th>\n",
       "      <th>volatile acidity</th>\n",
       "      <th>citric acid</th>\n",
       "      <th>residual sugar</th>\n",
       "      <th>chlorides</th>\n",
       "      <th>free sulfur dioxide</th>\n",
       "      <th>total sulfur dioxide</th>\n",
       "      <th>density</th>\n",
       "      <th>pH</th>\n",
       "      <th>sulphates</th>\n",
       "      <th>alcohol</th>\n",
       "      <th>quality</th>\n",
       "    </tr>\n",
       "  </thead>\n",
       "  <tbody>\n",
       "    <tr>\n",
       "      <th>0</th>\n",
       "      <td>7.4</td>\n",
       "      <td>0.70</td>\n",
       "      <td>0.00</td>\n",
       "      <td>1.9</td>\n",
       "      <td>0.076</td>\n",
       "      <td>11.0</td>\n",
       "      <td>34.0</td>\n",
       "      <td>0.9978</td>\n",
       "      <td>3.51</td>\n",
       "      <td>0.56</td>\n",
       "      <td>9.4</td>\n",
       "      <td>5</td>\n",
       "    </tr>\n",
       "    <tr>\n",
       "      <th>1</th>\n",
       "      <td>7.8</td>\n",
       "      <td>0.88</td>\n",
       "      <td>0.00</td>\n",
       "      <td>2.6</td>\n",
       "      <td>0.098</td>\n",
       "      <td>25.0</td>\n",
       "      <td>67.0</td>\n",
       "      <td>0.9968</td>\n",
       "      <td>3.20</td>\n",
       "      <td>0.68</td>\n",
       "      <td>9.8</td>\n",
       "      <td>5</td>\n",
       "    </tr>\n",
       "    <tr>\n",
       "      <th>2</th>\n",
       "      <td>7.8</td>\n",
       "      <td>0.76</td>\n",
       "      <td>0.04</td>\n",
       "      <td>2.3</td>\n",
       "      <td>0.092</td>\n",
       "      <td>15.0</td>\n",
       "      <td>54.0</td>\n",
       "      <td>0.9970</td>\n",
       "      <td>3.26</td>\n",
       "      <td>0.65</td>\n",
       "      <td>9.8</td>\n",
       "      <td>5</td>\n",
       "    </tr>\n",
       "    <tr>\n",
       "      <th>3</th>\n",
       "      <td>11.2</td>\n",
       "      <td>0.28</td>\n",
       "      <td>0.56</td>\n",
       "      <td>1.9</td>\n",
       "      <td>0.075</td>\n",
       "      <td>17.0</td>\n",
       "      <td>60.0</td>\n",
       "      <td>0.9980</td>\n",
       "      <td>3.16</td>\n",
       "      <td>0.58</td>\n",
       "      <td>9.8</td>\n",
       "      <td>6</td>\n",
       "    </tr>\n",
       "    <tr>\n",
       "      <th>4</th>\n",
       "      <td>7.4</td>\n",
       "      <td>0.70</td>\n",
       "      <td>0.00</td>\n",
       "      <td>1.9</td>\n",
       "      <td>0.076</td>\n",
       "      <td>11.0</td>\n",
       "      <td>34.0</td>\n",
       "      <td>0.9978</td>\n",
       "      <td>3.51</td>\n",
       "      <td>0.56</td>\n",
       "      <td>9.4</td>\n",
       "      <td>5</td>\n",
       "    </tr>\n",
       "  </tbody>\n",
       "</table>\n",
       "</div>"
      ],
      "text/plain": [
       "   fixed acidity  volatile acidity  citric acid  residual sugar  chlorides  \\\n",
       "0            7.4              0.70         0.00             1.9      0.076   \n",
       "1            7.8              0.88         0.00             2.6      0.098   \n",
       "2            7.8              0.76         0.04             2.3      0.092   \n",
       "3           11.2              0.28         0.56             1.9      0.075   \n",
       "4            7.4              0.70         0.00             1.9      0.076   \n",
       "\n",
       "   free sulfur dioxide  total sulfur dioxide  density    pH  sulphates  \\\n",
       "0                 11.0                  34.0   0.9978  3.51       0.56   \n",
       "1                 25.0                  67.0   0.9968  3.20       0.68   \n",
       "2                 15.0                  54.0   0.9970  3.26       0.65   \n",
       "3                 17.0                  60.0   0.9980  3.16       0.58   \n",
       "4                 11.0                  34.0   0.9978  3.51       0.56   \n",
       "\n",
       "   alcohol  quality  \n",
       "0      9.4        5  \n",
       "1      9.8        5  \n",
       "2      9.8        5  \n",
       "3      9.8        6  \n",
       "4      9.4        5  "
      ]
     },
     "execution_count": 5,
     "metadata": {},
     "output_type": "execute_result"
    }
   ],
   "source": [
    "dfRed.head()"
   ]
  },
  {
   "cell_type": "code",
   "execution_count": 6,
   "metadata": {},
   "outputs": [
    {
     "data": {
      "text/plain": [
       "RangeIndex(start=0, stop=1599, step=1)"
      ]
     },
     "execution_count": 6,
     "metadata": {},
     "output_type": "execute_result"
    }
   ],
   "source": [
    "dfRed.index"
   ]
  },
  {
   "cell_type": "code",
   "execution_count": 7,
   "metadata": {},
   "outputs": [
    {
     "data": {
      "text/plain": [
       "RangeIndex(start=0, stop=4898, step=1)"
      ]
     },
     "execution_count": 7,
     "metadata": {},
     "output_type": "execute_result"
    }
   ],
   "source": [
    "dfWhite.index"
   ]
  },
  {
   "cell_type": "code",
   "execution_count": 8,
   "metadata": {},
   "outputs": [
    {
     "data": {
      "text/plain": [
       "'quality'"
      ]
     },
     "execution_count": 8,
     "metadata": {},
     "output_type": "execute_result"
    }
   ],
   "source": [
    "#Get all the variable names\n",
    "var = dfWhite.columns.tolist()\n",
    "var.pop()"
   ]
  },
  {
   "cell_type": "code",
   "execution_count": 9,
   "metadata": {},
   "outputs": [],
   "source": [
    "x = dfWhite[var].values\n",
    "y = dfWhite['quality'].values"
   ]
  },
  {
   "cell_type": "code",
   "execution_count": 10,
   "metadata": {},
   "outputs": [
    {
     "data": {
      "text/plain": [
       "4898"
      ]
     },
     "execution_count": 10,
     "metadata": {},
     "output_type": "execute_result"
    }
   ],
   "source": [
    "len(x)"
   ]
  },
  {
   "cell_type": "code",
   "execution_count": 11,
   "metadata": {},
   "outputs": [],
   "source": [
    "Xtr = x[:4000]\n",
    "Xts = x[4000:]\n",
    "ytr = y[:4000]\n",
    "yts = y[4000:]"
   ]
  },
  {
   "cell_type": "code",
   "execution_count": 12,
   "metadata": {},
   "outputs": [],
   "source": [
    "from tensorflow.keras.models import Model, Sequential\n",
    "from tensorflow.keras.layers import Dense, Activation"
   ]
  },
  {
   "cell_type": "code",
   "execution_count": 13,
   "metadata": {},
   "outputs": [],
   "source": [
    "import tensorflow.keras.backend as K\n",
    "K.clear_session()"
   ]
  },
  {
   "cell_type": "code",
   "execution_count": 14,
   "metadata": {},
   "outputs": [],
   "source": [
    "nin = Xtr.shape[1]  # dimension of input data\n",
    "\n",
    "nh = 100     # number of hidden units\n",
    "nout = int(np.max(ytr)+1)    # number of outputs = 10 since there are 10 classes\n",
    "model = Sequential()\n",
    "model.add(Dense(units=nh, input_shape=(nin,), activation='sigmoid', name='hidden'))\n",
    "model.add(Dense(units=nout, activation='softmax', name='output'))"
   ]
  },
  {
   "cell_type": "code",
   "execution_count": 15,
   "metadata": {},
   "outputs": [
    {
     "name": "stdout",
     "output_type": "stream",
     "text": [
      "Model: \"sequential\"\n",
      "_________________________________________________________________\n",
      "Layer (type)                 Output Shape              Param #   \n",
      "=================================================================\n",
      "hidden (Dense)               (None, 100)               1200      \n",
      "_________________________________________________________________\n",
      "output (Dense)               (None, 10)                1010      \n",
      "=================================================================\n",
      "Total params: 2,210\n",
      "Trainable params: 2,210\n",
      "Non-trainable params: 0\n",
      "_________________________________________________________________\n"
     ]
    }
   ],
   "source": [
    "model.summary()"
   ]
  },
  {
   "cell_type": "code",
   "execution_count": 16,
   "metadata": {},
   "outputs": [],
   "source": [
    "from tensorflow.keras import optimizers\n",
    "\n",
    "opt = optimizers.Adam(lr=0.001) # beta_1=0.9, beta_2=0.999, epsilon=1e-08, decay=0.0)\n",
    "model.compile(optimizer=opt,\n",
    "              loss='sparse_categorical_crossentropy',\n",
    "              metrics=['accuracy'])"
   ]
  },
  {
   "cell_type": "code",
   "execution_count": 17,
   "metadata": {},
   "outputs": [
    {
     "name": "stdout",
     "output_type": "stream",
     "text": [
      "Train on 4000 samples, validate on 898 samples\n",
      "Epoch 1/50\n",
      "4000/4000 [==============================] - 0s 81us/sample - loss: 1.7186 - accuracy: 0.4272 - val_loss: 1.2471 - val_accuracy: 0.5356\n",
      "Epoch 2/50\n",
      "4000/4000 [==============================] - 0s 12us/sample - loss: 1.3339 - accuracy: 0.4272 - val_loss: 1.1898 - val_accuracy: 0.5312\n",
      "Epoch 3/50\n",
      "4000/4000 [==============================] - 0s 12us/sample - loss: 1.3004 - accuracy: 0.4322 - val_loss: 1.1760 - val_accuracy: 0.5122\n",
      "Epoch 4/50\n",
      "4000/4000 [==============================] - 0s 11us/sample - loss: 1.2830 - accuracy: 0.4305 - val_loss: 1.1240 - val_accuracy: 0.5356\n",
      "Epoch 5/50\n",
      "4000/4000 [==============================] - 0s 11us/sample - loss: 1.2633 - accuracy: 0.4333 - val_loss: 1.1425 - val_accuracy: 0.5367\n",
      "Epoch 6/50\n",
      "4000/4000 [==============================] - 0s 13us/sample - loss: 1.2516 - accuracy: 0.4372 - val_loss: 1.1369 - val_accuracy: 0.5189\n",
      "Epoch 7/50\n",
      "4000/4000 [==============================] - 0s 12us/sample - loss: 1.2412 - accuracy: 0.4473 - val_loss: 1.1149 - val_accuracy: 0.5679\n",
      "Epoch 8/50\n",
      "4000/4000 [==============================] - 0s 11us/sample - loss: 1.2318 - accuracy: 0.4353 - val_loss: 1.0940 - val_accuracy: 0.5401\n",
      "Epoch 9/50\n",
      "4000/4000 [==============================] - 0s 12us/sample - loss: 1.2225 - accuracy: 0.4473 - val_loss: 1.1121 - val_accuracy: 0.5022\n",
      "Epoch 10/50\n",
      "4000/4000 [==============================] - 0s 12us/sample - loss: 1.2170 - accuracy: 0.4470 - val_loss: 1.0803 - val_accuracy: 0.5612\n",
      "Epoch 11/50\n",
      "4000/4000 [==============================] - 0s 14us/sample - loss: 1.2087 - accuracy: 0.4457 - val_loss: 1.0732 - val_accuracy: 0.5445\n",
      "Epoch 12/50\n",
      "4000/4000 [==============================] - 0s 14us/sample - loss: 1.2054 - accuracy: 0.4498 - val_loss: 1.0985 - val_accuracy: 0.5256\n",
      "Epoch 13/50\n",
      "4000/4000 [==============================] - 0s 12us/sample - loss: 1.1985 - accuracy: 0.4538 - val_loss: 1.0691 - val_accuracy: 0.5490\n",
      "Epoch 14/50\n",
      "4000/4000 [==============================] - 0s 12us/sample - loss: 1.1983 - accuracy: 0.4618 - val_loss: 1.0600 - val_accuracy: 0.5902\n",
      "Epoch 15/50\n",
      "4000/4000 [==============================] - 0s 13us/sample - loss: 1.1919 - accuracy: 0.4670 - val_loss: 1.0671 - val_accuracy: 0.5612\n",
      "Epoch 16/50\n",
      "4000/4000 [==============================] - 0s 11us/sample - loss: 1.1860 - accuracy: 0.4650 - val_loss: 1.0626 - val_accuracy: 0.5768\n",
      "Epoch 17/50\n",
      "4000/4000 [==============================] - 0s 12us/sample - loss: 1.1840 - accuracy: 0.4695 - val_loss: 1.0767 - val_accuracy: 0.5045\n",
      "Epoch 18/50\n",
      "4000/4000 [==============================] - 0s 14us/sample - loss: 1.1780 - accuracy: 0.4697 - val_loss: 1.0682 - val_accuracy: 0.5089\n",
      "Epoch 19/50\n",
      "4000/4000 [==============================] - 0s 13us/sample - loss: 1.1774 - accuracy: 0.4755 - val_loss: 1.0566 - val_accuracy: 0.5323\n",
      "Epoch 20/50\n",
      "4000/4000 [==============================] - 0s 11us/sample - loss: 1.1729 - accuracy: 0.4748 - val_loss: 1.0593 - val_accuracy: 0.5356\n",
      "Epoch 21/50\n",
      "4000/4000 [==============================] - 0s 12us/sample - loss: 1.1702 - accuracy: 0.4762 - val_loss: 1.0559 - val_accuracy: 0.5635\n",
      "Epoch 22/50\n",
      "4000/4000 [==============================] - 0s 12us/sample - loss: 1.1661 - accuracy: 0.4678 - val_loss: 1.0649 - val_accuracy: 0.5000\n",
      "Epoch 23/50\n",
      "4000/4000 [==============================] - 0s 13us/sample - loss: 1.1636 - accuracy: 0.4787 - val_loss: 1.0834 - val_accuracy: 0.4788\n",
      "Epoch 24/50\n",
      "4000/4000 [==============================] - 0s 12us/sample - loss: 1.1641 - accuracy: 0.4805 - val_loss: 1.0640 - val_accuracy: 0.5045\n",
      "Epoch 25/50\n",
      "4000/4000 [==============================] - 0s 12us/sample - loss: 1.1575 - accuracy: 0.4805 - val_loss: 1.0525 - val_accuracy: 0.5468\n",
      "Epoch 26/50\n",
      "4000/4000 [==============================] - 0s 12us/sample - loss: 1.1574 - accuracy: 0.4812 - val_loss: 1.0900 - val_accuracy: 0.4699\n",
      "Epoch 27/50\n",
      "4000/4000 [==============================] - 0s 11us/sample - loss: 1.1567 - accuracy: 0.4778 - val_loss: 1.0314 - val_accuracy: 0.6002\n",
      "Epoch 28/50\n",
      "4000/4000 [==============================] - 0s 11us/sample - loss: 1.1527 - accuracy: 0.4920 - val_loss: 1.0704 - val_accuracy: 0.5301\n",
      "Epoch 29/50\n",
      "4000/4000 [==============================] - 0s 11us/sample - loss: 1.1490 - accuracy: 0.4855 - val_loss: 1.0744 - val_accuracy: 0.4967\n",
      "Epoch 30/50\n",
      "4000/4000 [==============================] - 0s 11us/sample - loss: 1.1458 - accuracy: 0.4820 - val_loss: 1.0664 - val_accuracy: 0.5078\n",
      "Epoch 31/50\n",
      "4000/4000 [==============================] - 0s 12us/sample - loss: 1.1444 - accuracy: 0.4910 - val_loss: 1.1065 - val_accuracy: 0.4510\n",
      "Epoch 32/50\n",
      "4000/4000 [==============================] - 0s 15us/sample - loss: 1.1486 - accuracy: 0.4902 - val_loss: 1.0446 - val_accuracy: 0.5535\n",
      "Epoch 33/50\n",
      "4000/4000 [==============================] - 0s 17us/sample - loss: 1.1471 - accuracy: 0.4823 - val_loss: 1.0572 - val_accuracy: 0.5646\n",
      "Epoch 34/50\n",
      "4000/4000 [==============================] - 0s 14us/sample - loss: 1.1418 - accuracy: 0.4888 - val_loss: 1.0552 - val_accuracy: 0.5189\n",
      "Epoch 35/50\n",
      "4000/4000 [==============================] - 0s 14us/sample - loss: 1.1434 - accuracy: 0.4935 - val_loss: 1.0903 - val_accuracy: 0.4644\n",
      "Epoch 36/50\n",
      "4000/4000 [==============================] - 0s 14us/sample - loss: 1.1386 - accuracy: 0.4882 - val_loss: 1.0685 - val_accuracy: 0.5089\n",
      "Epoch 37/50\n",
      "4000/4000 [==============================] - 0s 12us/sample - loss: 1.1335 - accuracy: 0.5052 - val_loss: 1.0437 - val_accuracy: 0.5646\n",
      "Epoch 38/50\n",
      "4000/4000 [==============================] - 0s 11us/sample - loss: 1.1345 - accuracy: 0.4935 - val_loss: 1.0531 - val_accuracy: 0.5345\n",
      "Epoch 39/50\n",
      "4000/4000 [==============================] - 0s 13us/sample - loss: 1.1324 - accuracy: 0.4975 - val_loss: 1.0452 - val_accuracy: 0.5601\n",
      "Epoch 40/50\n",
      "4000/4000 [==============================] - 0s 13us/sample - loss: 1.1321 - accuracy: 0.4963 - val_loss: 1.0516 - val_accuracy: 0.5033\n",
      "Epoch 41/50\n",
      "4000/4000 [==============================] - 0s 12us/sample - loss: 1.1299 - accuracy: 0.4930 - val_loss: 1.0706 - val_accuracy: 0.5011\n",
      "Epoch 42/50\n",
      "4000/4000 [==============================] - 0s 12us/sample - loss: 1.1255 - accuracy: 0.5060 - val_loss: 1.0483 - val_accuracy: 0.5501\n",
      "Epoch 43/50\n",
      "4000/4000 [==============================] - 0s 12us/sample - loss: 1.1259 - accuracy: 0.5033 - val_loss: 1.0807 - val_accuracy: 0.4766\n",
      "Epoch 44/50\n",
      "4000/4000 [==============================] - 0s 13us/sample - loss: 1.1258 - accuracy: 0.5052 - val_loss: 1.0270 - val_accuracy: 0.5546\n",
      "Epoch 45/50\n",
      "4000/4000 [==============================] - 0s 13us/sample - loss: 1.1252 - accuracy: 0.5017 - val_loss: 1.0599 - val_accuracy: 0.5122\n",
      "Epoch 46/50\n",
      "4000/4000 [==============================] - 0s 13us/sample - loss: 1.1214 - accuracy: 0.5020 - val_loss: 1.0454 - val_accuracy: 0.5145\n",
      "Epoch 47/50\n",
      "4000/4000 [==============================] - 0s 12us/sample - loss: 1.1223 - accuracy: 0.5077 - val_loss: 1.0732 - val_accuracy: 0.4978\n",
      "Epoch 48/50\n",
      "4000/4000 [==============================] - 0s 12us/sample - loss: 1.1190 - accuracy: 0.5113 - val_loss: 1.0351 - val_accuracy: 0.5657\n",
      "Epoch 49/50\n",
      "4000/4000 [==============================] - 0s 12us/sample - loss: 1.1175 - accuracy: 0.5123 - val_loss: 1.0675 - val_accuracy: 0.5200\n",
      "Epoch 50/50\n",
      "4000/4000 [==============================] - 0s 12us/sample - loss: 1.1146 - accuracy: 0.5130 - val_loss: 1.0428 - val_accuracy: 0.5468\n"
     ]
    }
   ],
   "source": [
    "hist = model.fit(Xtr, ytr, epochs=50, batch_size=100, validation_data=(Xts,yts))"
   ]
  },
  {
   "cell_type": "code",
   "execution_count": 18,
   "metadata": {},
   "outputs": [
    {
     "data": {
      "text/plain": [
       "Text(0.5,1,'Neural Network Baseline Performance')"
      ]
     },
     "execution_count": 18,
     "metadata": {},
     "output_type": "execute_result"
    },
    {
     "data": {
      "image/png": "[encoded data removed]",
      "text/plain": [
       "<Figure size 432x288 with 1 Axes>"
      ]
     },
     "metadata": {},
     "output_type": "display_data"
    }
   ],
   "source": [
    "tr_accuracy = hist.history['accuracy']\n",
    "val_accuracy = hist.history['val_accuracy']\n",
    "\n",
    "plt.plot(tr_accuracy)\n",
    "plt.plot(val_accuracy)\n",
    "plt.grid()\n",
    "plt.xlabel('epochs')\n",
    "plt.ylabel('accuarcy')\n",
    "plt.legend(['training accuracy', 'test accuracy'])\n",
    "plt.title('Neural Network Baseline Performance')"
   ]
  },
  {
   "cell_type": "code",
   "execution_count": 19,
   "metadata": {},
   "outputs": [],
   "source": [
    "model.save(\"wineTr.h5\")"
   ]
  },
  {
   "cell_type": "code",
   "execution_count": 20,
   "metadata": {},
   "outputs": [
    {
     "name": "stdout",
     "output_type": "stream",
     "text": [
      "Model: \"sequential\"\n",
      "_________________________________________________________________\n",
      "Layer (type)                 Output Shape              Param #   \n",
      "=================================================================\n",
      "hidden (Dense)               (None, 100)               1200      \n",
      "_________________________________________________________________\n",
      "output (Dense)               (None, 10)                1010      \n",
      "=================================================================\n",
      "Total params: 2,210\n",
      "Trainable params: 2,210\n",
      "Non-trainable params: 0\n",
      "_________________________________________________________________\n"
     ]
    }
   ],
   "source": [
    "from tensorflow.keras.models import load_model\n",
    "\n",
    "model = load_model(\"wineTr.h5\")\n",
    "model.summary()"
   ]
  },
  {
   "cell_type": "code",
   "execution_count": 21,
   "metadata": {},
   "outputs": [
    {
     "name": "stdout",
     "output_type": "stream",
     "text": [
      "898/898 [==============================] - 0s 87us/sample - loss: 1.0428 - accuracy: 0.5468\n",
      "accuracy = 0.546771\n"
     ]
    }
   ],
   "source": [
    "score, acc = model.evaluate(Xts, yts, verbose=1)\n",
    "print(\"accuracy = %f\" % acc)"
   ]
  },
  {
   "cell_type": "code",
   "execution_count": 22,
   "metadata": {},
   "outputs": [
    {
     "data": {
      "text/plain": [
       "array([[-0.01408451, -0.50909091, -0.56626506, ...,  0.57068063,\n",
       "        -0.16666667,  0.23943662],\n",
       "       [-0.11267606, -0.45454545, -0.59036145, ...,  0.72774869,\n",
       "        -0.09259259,  0.33802817],\n",
       "       [ 0.14084507, -0.49090909, -0.51807229, ...,  0.70680628,\n",
       "        -0.18518519,  0.42253521],\n",
       "       ...,\n",
       "       [-0.08450704, -0.56363636, -0.77108434, ...,  0.56544503,\n",
       "        -0.14814815,  0.32394366],\n",
       "       [-0.22535211, -0.47272727, -0.63855422, ...,  0.7486911 ,\n",
       "        -0.2962963 ,  0.8028169 ],\n",
       "       [-0.15492958, -0.61818182, -0.54216867, ...,  0.70680628,\n",
       "        -0.40740741,  0.66197183]])"
      ]
     },
     "execution_count": 22,
     "metadata": {},
     "output_type": "execute_result"
    }
   ],
   "source": [
    "#Data cleaning \n",
    "\n",
    "\n",
    "fixed_acidity = dfWhite['fixed acidity'].values\n",
    "fixed_acidity_max = np.max(fixed_acidity)\n",
    "fixed_acidity = 2*(fixed_acidity/fixed_acidity_max - 0.5)\n",
    "\n",
    "volatile_acidity = dfWhite['volatile acidity'].values\n",
    "volatile_acidity_max = np.max(volatile_acidity)\n",
    "volatile_acidity = 2*(volatile_acidity/volatile_acidity_max - 0.5)\n",
    "\n",
    "x = np.stack((fixed_acidity, volatile_acidity), axis=-1)\n",
    "\n",
    "\n",
    "for i in range(2,len(var)):\n",
    "    current_column = dfWhite[var[i]].values\n",
    "    current_column_max = np.max(current_column)\n",
    "    current_column = 2*(current_column/current_column_max - 0.5)\n",
    "    x = np.hstack((x, np.atleast_2d(current_column).T)) \n",
    "x"
   ]
  },
  {
   "cell_type": "code",
   "execution_count": 23,
   "metadata": {},
   "outputs": [],
   "source": [
    "Xtr = x[:4000]\n",
    "Xts = x[4000:]\n",
    "ytr = y[:4000]\n",
    "yts = y[4000:]"
   ]
  },
  {
   "cell_type": "code",
   "execution_count": 24,
   "metadata": {},
   "outputs": [],
   "source": [
    "from tensorflow.keras.models import Model, Sequential\n",
    "from tensorflow.keras.layers import Dense, Activation"
   ]
  },
  {
   "cell_type": "code",
   "execution_count": 25,
   "metadata": {},
   "outputs": [],
   "source": [
    "import tensorflow.keras.backend as K\n",
    "K.clear_session()"
   ]
  },
  {
   "cell_type": "code",
   "execution_count": 26,
   "metadata": {},
   "outputs": [],
   "source": [
    "nin = Xtr.shape[1]  # dimension of input data\n",
    "\n",
    "nh = 100     # number of hidden units\n",
    "nout = int(np.max(ytr)+1)    # number of outputs = 10 since there are 10 classes\n",
    "model = Sequential()\n",
    "model.add(Dense(units=nh, input_shape=(nin,), activation='sigmoid', name='hidden'))\n",
    "model.add(Dense(units=nout, activation='softmax', name='output'))"
   ]
  },
  {
   "cell_type": "code",
   "execution_count": 27,
   "metadata": {},
   "outputs": [
    {
     "name": "stdout",
     "output_type": "stream",
     "text": [
      "Model: \"sequential\"\n",
      "_________________________________________________________________\n",
      "Layer (type)                 Output Shape              Param #   \n",
      "=================================================================\n",
      "hidden (Dense)               (None, 100)               1200      \n",
      "_________________________________________________________________\n",
      "output (Dense)               (None, 10)                1010      \n",
      "=================================================================\n",
      "Total params: 2,210\n",
      "Trainable params: 2,210\n",
      "Non-trainable params: 0\n",
      "_________________________________________________________________\n"
     ]
    }
   ],
   "source": [
    "model.summary()"
   ]
  },
  {
   "cell_type": "code",
   "execution_count": 28,
   "metadata": {},
   "outputs": [],
   "source": [
    "from tensorflow.keras import optimizers\n",
    "\n",
    "opt = optimizers.Adam(lr=0.001) # beta_1=0.9, beta_2=0.999, epsilon=1e-08, decay=0.0)\n",
    "model.compile(optimizer=opt,\n",
    "              loss='sparse_categorical_crossentropy',\n",
    "              metrics=['accuracy'])"
   ]
  },
  {
   "cell_type": "code",
   "execution_count": 29,
   "metadata": {},
   "outputs": [
    {
     "name": "stdout",
     "output_type": "stream",
     "text": [
      "Train on 4000 samples, validate on 898 samples\n",
      "Epoch 1/50\n",
      "4000/4000 [==============================] - 0s 80us/sample - loss: 1.6564 - accuracy: 0.3265 - val_loss: 1.2085 - val_accuracy: 0.5356\n",
      "Epoch 2/50\n",
      "4000/4000 [==============================] - 0s 13us/sample - loss: 1.3415 - accuracy: 0.4293 - val_loss: 1.1812 - val_accuracy: 0.5356\n",
      "Epoch 3/50\n",
      "4000/4000 [==============================] - 0s 12us/sample - loss: 1.3265 - accuracy: 0.4293 - val_loss: 1.1886 - val_accuracy: 0.5356\n",
      "Epoch 4/50\n",
      "4000/4000 [==============================] - 0s 13us/sample - loss: 1.3185 - accuracy: 0.4293 - val_loss: 1.1697 - val_accuracy: 0.5356\n",
      "Epoch 5/50\n",
      "4000/4000 [==============================] - 0s 14us/sample - loss: 1.3120 - accuracy: 0.4293 - val_loss: 1.1739 - val_accuracy: 0.5356\n",
      "Epoch 6/50\n",
      "4000/4000 [==============================] - 0s 11us/sample - loss: 1.3062 - accuracy: 0.4293 - val_loss: 1.1790 - val_accuracy: 0.5356\n",
      "Epoch 7/50\n",
      "4000/4000 [==============================] - 0s 12us/sample - loss: 1.3015 - accuracy: 0.4308 - val_loss: 1.1522 - val_accuracy: 0.5356\n",
      "Epoch 8/50\n",
      "4000/4000 [==============================] - 0s 11us/sample - loss: 1.2960 - accuracy: 0.4293 - val_loss: 1.1589 - val_accuracy: 0.5356\n",
      "Epoch 9/50\n",
      "4000/4000 [==============================] - 0s 11us/sample - loss: 1.2897 - accuracy: 0.4295 - val_loss: 1.1493 - val_accuracy: 0.5356\n",
      "Epoch 10/50\n",
      "4000/4000 [==============================] - 0s 11us/sample - loss: 1.2872 - accuracy: 0.4305 - val_loss: 1.1528 - val_accuracy: 0.5345\n",
      "Epoch 11/50\n",
      "4000/4000 [==============================] - 0s 12us/sample - loss: 1.2800 - accuracy: 0.4358 - val_loss: 1.1363 - val_accuracy: 0.5356\n",
      "Epoch 12/50\n",
      "4000/4000 [==============================] - 0s 12us/sample - loss: 1.2763 - accuracy: 0.4365 - val_loss: 1.1514 - val_accuracy: 0.5356\n",
      "Epoch 13/50\n",
      "4000/4000 [==============================] - 0s 12us/sample - loss: 1.2707 - accuracy: 0.4370 - val_loss: 1.1379 - val_accuracy: 0.5423\n",
      "Epoch 14/50\n",
      "4000/4000 [==============================] - 0s 11us/sample - loss: 1.2644 - accuracy: 0.4385 - val_loss: 1.1341 - val_accuracy: 0.5512\n",
      "Epoch 15/50\n",
      "4000/4000 [==============================] - 0s 12us/sample - loss: 1.2607 - accuracy: 0.4475 - val_loss: 1.1266 - val_accuracy: 0.5401\n",
      "Epoch 16/50\n",
      "4000/4000 [==============================] - 0s 12us/sample - loss: 1.2561 - accuracy: 0.4445 - val_loss: 1.1492 - val_accuracy: 0.5791\n",
      "Epoch 17/50\n",
      "4000/4000 [==============================] - 0s 13us/sample - loss: 1.2518 - accuracy: 0.4572 - val_loss: 1.1271 - val_accuracy: 0.5457\n",
      "Epoch 18/50\n",
      "4000/4000 [==============================] - 0s 11us/sample - loss: 1.2467 - accuracy: 0.4548 - val_loss: 1.1298 - val_accuracy: 0.5512\n",
      "Epoch 19/50\n",
      "4000/4000 [==============================] - 0s 12us/sample - loss: 1.2420 - accuracy: 0.4600 - val_loss: 1.1259 - val_accuracy: 0.5535\n",
      "Epoch 20/50\n",
      "4000/4000 [==============================] - 0s 11us/sample - loss: 1.2364 - accuracy: 0.4678 - val_loss: 1.1115 - val_accuracy: 0.5657\n",
      "Epoch 21/50\n",
      "4000/4000 [==============================] - 0s 12us/sample - loss: 1.2338 - accuracy: 0.4670 - val_loss: 1.1195 - val_accuracy: 0.5646\n",
      "Epoch 22/50\n",
      "4000/4000 [==============================] - 0s 12us/sample - loss: 1.2281 - accuracy: 0.4640 - val_loss: 1.1321 - val_accuracy: 0.5846\n",
      "Epoch 23/50\n",
      "4000/4000 [==============================] - 0s 11us/sample - loss: 1.2246 - accuracy: 0.4745 - val_loss: 1.1087 - val_accuracy: 0.5557\n",
      "Epoch 24/50\n",
      "4000/4000 [==============================] - 0s 12us/sample - loss: 1.2198 - accuracy: 0.4765 - val_loss: 1.1183 - val_accuracy: 0.5746\n",
      "Epoch 25/50\n",
      "4000/4000 [==============================] - 0s 11us/sample - loss: 1.2140 - accuracy: 0.4860 - val_loss: 1.1180 - val_accuracy: 0.5390\n",
      "Epoch 26/50\n",
      "4000/4000 [==============================] - 0s 13us/sample - loss: 1.2141 - accuracy: 0.4775 - val_loss: 1.0959 - val_accuracy: 0.5857\n",
      "Epoch 27/50\n",
      "4000/4000 [==============================] - 0s 13us/sample - loss: 1.2083 - accuracy: 0.4835 - val_loss: 1.0885 - val_accuracy: 0.5713\n",
      "Epoch 28/50\n",
      "4000/4000 [==============================] - 0s 11us/sample - loss: 1.2046 - accuracy: 0.4845 - val_loss: 1.0961 - val_accuracy: 0.5735\n",
      "Epoch 29/50\n",
      "4000/4000 [==============================] - 0s 11us/sample - loss: 1.2007 - accuracy: 0.4958 - val_loss: 1.1143 - val_accuracy: 0.5846\n",
      "Epoch 30/50\n",
      "4000/4000 [==============================] - 0s 11us/sample - loss: 1.1994 - accuracy: 0.4875 - val_loss: 1.1114 - val_accuracy: 0.5345\n",
      "Epoch 31/50\n",
      "4000/4000 [==============================] - 0s 11us/sample - loss: 1.1947 - accuracy: 0.4990 - val_loss: 1.1100 - val_accuracy: 0.5724\n",
      "Epoch 32/50\n",
      "4000/4000 [==============================] - 0s 12us/sample - loss: 1.1926 - accuracy: 0.4942 - val_loss: 1.1099 - val_accuracy: 0.5757\n",
      "Epoch 33/50\n",
      "4000/4000 [==============================] - 0s 11us/sample - loss: 1.1905 - accuracy: 0.5033 - val_loss: 1.0971 - val_accuracy: 0.5735\n",
      "Epoch 34/50\n",
      "4000/4000 [==============================] - 0s 12us/sample - loss: 1.1864 - accuracy: 0.5023 - val_loss: 1.0921 - val_accuracy: 0.5724\n",
      "Epoch 35/50\n",
      "4000/4000 [==============================] - 0s 11us/sample - loss: 1.1833 - accuracy: 0.5000 - val_loss: 1.1014 - val_accuracy: 0.5546\n",
      "Epoch 36/50\n",
      "4000/4000 [==============================] - 0s 12us/sample - loss: 1.1804 - accuracy: 0.5035 - val_loss: 1.0943 - val_accuracy: 0.5690\n",
      "Epoch 37/50\n",
      "4000/4000 [==============================] - 0s 12us/sample - loss: 1.1776 - accuracy: 0.5065 - val_loss: 1.0713 - val_accuracy: 0.5857\n",
      "Epoch 38/50\n",
      "4000/4000 [==============================] - 0s 11us/sample - loss: 1.1754 - accuracy: 0.5050 - val_loss: 1.0878 - val_accuracy: 0.5768\n",
      "Epoch 39/50\n",
      "4000/4000 [==============================] - 0s 12us/sample - loss: 1.1737 - accuracy: 0.5060 - val_loss: 1.0756 - val_accuracy: 0.5702\n",
      "Epoch 40/50\n",
      "4000/4000 [==============================] - 0s 11us/sample - loss: 1.1712 - accuracy: 0.5082 - val_loss: 1.0719 - val_accuracy: 0.5813\n",
      "Epoch 41/50\n",
      "4000/4000 [==============================] - 0s 11us/sample - loss: 1.1697 - accuracy: 0.5060 - val_loss: 1.1039 - val_accuracy: 0.5479\n",
      "Epoch 42/50\n",
      "4000/4000 [==============================] - 0s 11us/sample - loss: 1.1698 - accuracy: 0.5130 - val_loss: 1.0647 - val_accuracy: 0.5724\n",
      "Epoch 43/50\n",
      "4000/4000 [==============================] - 0s 11us/sample - loss: 1.1652 - accuracy: 0.5135 - val_loss: 1.1040 - val_accuracy: 0.5479\n",
      "Epoch 44/50\n",
      "4000/4000 [==============================] - 0s 11us/sample - loss: 1.1632 - accuracy: 0.5123 - val_loss: 1.0817 - val_accuracy: 0.5702\n",
      "Epoch 45/50\n",
      "4000/4000 [==============================] - 0s 11us/sample - loss: 1.1617 - accuracy: 0.5117 - val_loss: 1.0915 - val_accuracy: 0.5535\n",
      "Epoch 46/50\n",
      "4000/4000 [==============================] - 0s 11us/sample - loss: 1.1598 - accuracy: 0.5185 - val_loss: 1.0822 - val_accuracy: 0.5490\n",
      "Epoch 47/50\n",
      "4000/4000 [==============================] - 0s 12us/sample - loss: 1.1574 - accuracy: 0.5123 - val_loss: 1.0792 - val_accuracy: 0.5546\n",
      "Epoch 48/50\n",
      "4000/4000 [==============================] - 0s 12us/sample - loss: 1.1563 - accuracy: 0.5145 - val_loss: 1.0820 - val_accuracy: 0.5635\n",
      "Epoch 49/50\n",
      "4000/4000 [==============================] - 0s 14us/sample - loss: 1.1533 - accuracy: 0.5170 - val_loss: 1.0767 - val_accuracy: 0.5579\n",
      "Epoch 50/50\n",
      "4000/4000 [==============================] - 0s 11us/sample - loss: 1.1525 - accuracy: 0.5210 - val_loss: 1.0678 - val_accuracy: 0.5791\n"
     ]
    },
    {
     "data": {
      "text/plain": [
       "2.7150003910064697"
      ]
     },
     "execution_count": 29,
     "metadata": {},
     "output_type": "execute_result"
    }
   ],
   "source": [
    "t = time.time()\n",
    "hist = model.fit(Xtr, ytr, epochs=50, batch_size=100, validation_data=(Xts,yts))\n",
    "elapsed = time.time()-t\n",
    "\n",
    "elapsed"
   ]
  },
  {
   "cell_type": "code",
   "execution_count": 34,
   "metadata": {},
   "outputs": [
    {
     "data": {
      "text/plain": [
       "Text(0.5,1,'Neural Network Performance with Rescaled Training Input')"
      ]
     },
     "execution_count": 34,
     "metadata": {},
     "output_type": "execute_result"
    },
    {
     "data": {
      "image/png": "[encoded data removed]",
      "text/plain": [
       "<Figure size 432x288 with 1 Axes>"
      ]
     },
     "metadata": {},
     "output_type": "display_data"
    }
   ],
   "source": [
    "tr_accuracy = hist.history['accuracy']\n",
    "val_accuracy = hist.history['val_accuracy']\n",
    "\n",
    "plt.plot(tr_accuracy)\n",
    "plt.plot(val_accuracy)\n",
    "plt.grid()\n",
    "plt.xlabel('epochs')\n",
    "plt.ylabel('accuarcy')\n",
    "plt.legend(['training accuracy', 'test accuracy'])\n",
    "plt.title('Neural Network Performance with Rescaled Training Input')"
   ]
  },
  {
   "cell_type": "code",
   "execution_count": 31,
   "metadata": {},
   "outputs": [],
   "source": [
    "model.save(\"wineNNClean.h5\")"
   ]
  },
  {
   "cell_type": "code",
   "execution_count": 32,
   "metadata": {},
   "outputs": [
    {
     "name": "stdout",
     "output_type": "stream",
     "text": [
      "Model: \"sequential\"\n",
      "_________________________________________________________________\n",
      "Layer (type)                 Output Shape              Param #   \n",
      "=================================================================\n",
      "hidden (Dense)               (None, 100)               1200      \n",
      "_________________________________________________________________\n",
      "output (Dense)               (None, 10)                1010      \n",
      "=================================================================\n",
      "Total params: 2,210\n",
      "Trainable params: 2,210\n",
      "Non-trainable params: 0\n",
      "_________________________________________________________________\n"
     ]
    }
   ],
   "source": [
    "from tensorflow.keras.models import load_model\n",
    "\n",
    "model = load_model(\"wineNNClean.h5\")\n",
    "model.summary()"
   ]
  },
  {
   "cell_type": "code",
   "execution_count": 33,
   "metadata": {},
   "outputs": [
    {
     "name": "stdout",
     "output_type": "stream",
     "text": [
      "898/898 [==============================] - 0s 79us/sample - loss: 1.0678 - accuracy: 0.5791\n",
      "accuracy = 0.579065\n"
     ]
    }
   ],
   "source": [
    "score, acc = model.evaluate(Xts, yts, verbose=1)\n",
    "print(\"accuracy = %f\" % acc)"
   ]
  },
  {
   "cell_type": "code",
   "execution_count": null,
   "metadata": {},
   "outputs": [],
   "source": []
  }
 ],
 "metadata": {
  "kernelspec": {
   "display_name": "Python 3",
   "language": "python",
   "name": "python3"
  },
  "language_info": {
   "codemirror_mode": {
    "name": "ipython",
    "version": 3
   },
   "file_extension": ".py",
   "mimetype": "text/x-python",
   "name": "python",
   "nbconvert_exporter": "python",
   "pygments_lexer": "ipython3",
   "version": "3.6.5"
  }
 },
 "nbformat": 4,
 "nbformat_minor": 2
}
