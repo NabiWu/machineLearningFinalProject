{
 "cells": [
  {
   "cell_type": "code",
   "execution_count": 1,
   "metadata": {},
   "outputs": [],
   "source": [
    "import numpy as np\n",
    "import pandas as pd\n",
    "import matplotlib\n",
    "import matplotlib.pyplot as plt\n",
    "import tensorflow as tf\n",
    "import operator\n",
    "import time\n",
    "%matplotlib inline"
   ]
  },
  {
   "cell_type": "code",
   "execution_count": 2,
   "metadata": {},
   "outputs": [],
   "source": [
    "# The following lines you can ignore. It was needed to properly use the current version of Tensorflow on my Macbook \n",
    "# due to issues with OpenMP. Leaving here in case it's useful for others.\n",
    "# import os\n",
    "# os.environ['KMP_DUPLICATE_LIB_OK']='True'"
   ]
  },
  {
   "cell_type": "code",
   "execution_count": 3,
   "metadata": {},
   "outputs": [],
   "source": [
    "\n",
    "dfWhite = pd.read_csv('winequality-white.csv', sep=';', header=0)"
   ]
  },
  {
   "cell_type": "code",
   "execution_count": 4,
   "metadata": {},
   "outputs": [
    {
     "data": {
      "text/plain": [
       "'quality'"
      ]
     },
     "execution_count": 4,
     "metadata": {},
     "output_type": "execute_result"
    }
   ],
   "source": [
    "#Get all the variable names\n",
    "var = dfWhite.columns.tolist()\n",
    "var.pop()"
   ]
  },
  {
   "cell_type": "code",
   "execution_count": 5,
   "metadata": {},
   "outputs": [],
   "source": [
    "x = dfWhite[var].values\n",
    "y = dfWhite['quality'].values\n"
   ]
  },
  {
   "cell_type": "code",
   "execution_count": 6,
   "metadata": {},
   "outputs": [],
   "source": [
    "ycopy = np.copy(y)\n",
    "ycopy[ycopy<6] = 0;\n",
    "ycopy[ycopy==6] = 1;\n",
    "ycopy[ycopy==7] = 1;\n",
    "ycopy[ycopy>7] = 2;\n"
   ]
  },
  {
   "cell_type": "code",
   "execution_count": 7,
   "metadata": {},
   "outputs": [],
   "source": [
    "\n",
    "\n",
    "x_data = x\n",
    "y_data_noRelabel = y\n",
    "y_data_relabel = ycopy\n",
    "x_data_size = x_data.shape[0]\n"
   ]
  },
  {
   "cell_type": "code",
   "execution_count": 8,
   "metadata": {},
   "outputs": [],
   "source": [
    "x_orig = dfWhite[var].values\n"
   ]
  },
  {
   "cell_type": "code",
   "execution_count": 9,
   "metadata": {},
   "outputs": [
    {
     "data": {
      "text/plain": [
       "array([1, 1, 1, ..., 1, 1, 1], dtype=int64)"
      ]
     },
     "execution_count": 9,
     "metadata": {},
     "output_type": "execute_result"
    }
   ],
   "source": [
    "y_data_relabel"
   ]
  },
  {
   "cell_type": "code",
   "execution_count": 10,
   "metadata": {},
   "outputs": [],
   "source": [
    "def knnAccuracy(x_data, y_data, x_data_size, k):\n",
    "    count = 0\n",
    "    for i in range(x_data_size):\n",
    "        x_test = x_data[i]\n",
    "        y_test = y_data[i]\n",
    "        diffMat = np.tile(x_test, (x_data_size,1)) - x_data\n",
    "        sqDiffMat = diffMat**2\n",
    "        sqDistances = sqDiffMat.sum(axis=1)\n",
    "        distances = sqDistances**0.5\n",
    "        sortedDistances = distances.argsort()\n",
    "\n",
    "\n",
    "        classCount = {}\n",
    "\n",
    "        for i in range(k):\n",
    "            votelabel = y_data[sortedDistances[i]]\n",
    "            classCount[votelabel] = classCount.get(votelabel,0) + 1\n",
    "\n",
    "        # Get rid of itself\n",
    "        classCount[y_test] -= 1\n",
    "\n",
    "        sortedClassCount = sorted(classCount.items(), key=operator.itemgetter(1), reverse=True)\n",
    "        knnclass = sortedClassCount[0][0]\n",
    "\n",
    "        if knnclass==y_test:\n",
    "            count += 1\n",
    "\n",
    "\n",
    "    return count/x_data_size"
   ]
  },
  {
   "cell_type": "code",
   "execution_count": 11,
   "metadata": {},
   "outputs": [],
   "source": [
    "# sqDiffMat = diffMat**2\n",
    "# sqDistances = sqDiffMat.sum(axis=1)\n",
    "# distances = sqDistances**0.5\n",
    "# sortedDistances = distances.argsort()\n"
   ]
  },
  {
   "cell_type": "code",
   "execution_count": 12,
   "metadata": {},
   "outputs": [],
   "source": [
    "# classCount = {}\n",
    "\n",
    "# k = 5\n",
    "# for i in range(k):\n",
    "#     votelabel = y_data[sortedDistances[i]]\n",
    "#     classCount[votelabel] = classCount.get(votelabel,0) + 1"
   ]
  },
  {
   "cell_type": "code",
   "execution_count": 13,
   "metadata": {},
   "outputs": [],
   "source": [
    "# classCount"
   ]
  },
  {
   "cell_type": "code",
   "execution_count": 14,
   "metadata": {},
   "outputs": [],
   "source": [
    "# sortedClassCount = sorted(classCount.items(), key=operator.itemgetter(1), reverse=True)\n",
    "# knnclass = sortedClassCount[0][0]\n",
    "# knnclass"
   ]
  },
  {
   "cell_type": "code",
   "execution_count": 15,
   "metadata": {},
   "outputs": [
    {
     "name": "stdout",
     "output_type": "stream",
     "text": [
      "[[ 7.    0.27  0.36 ...  3.    0.45  8.8 ]\n",
      " [ 6.3   0.3   0.34 ...  3.3   0.49  9.5 ]\n",
      " [ 8.1   0.28  0.4  ...  3.26  0.44 10.1 ]\n",
      " ...\n",
      " [ 6.5   0.24  0.19 ...  2.99  0.46  9.4 ]\n",
      " [ 5.5   0.29  0.3  ...  3.34  0.38 12.8 ]\n",
      " [ 6.    0.21  0.38 ...  3.26  0.32 11.8 ]]\n",
      "46.43069267272949\n",
      "46.122328758239746\n"
     ]
    }
   ],
   "source": [
    "acc1 = []\n",
    "t = time.time()\n",
    "print(x_orig)\n",
    "for k in range(3,50,2):\n",
    "    result = knnAccuracy(x_orig, y_data_noRelabel, x_data_size, k)\n",
    "    acc1.append(result)\n",
    "elapsed = time.time()-t\n",
    "t = time.time()\n",
    "acc2 = []\n",
    "for k in range(3,50,2):\n",
    "    result = knnAccuracy(x_orig, y_data_relabel, x_data_size, k)\n",
    "    acc2.append(result)\n",
    "elapsed2 = time.time()-t\n",
    "\n",
    "print(elapsed)\n",
    "print(elapsed2)"
   ]
  },
  {
   "cell_type": "code",
   "execution_count": 16,
   "metadata": {},
   "outputs": [
    {
     "data": {
      "text/plain": [
       "Text(0.5,1,'kNN accuracy without data scaling')"
      ]
     },
     "execution_count": 16,
     "metadata": {},
     "output_type": "execute_result"
    },
    {
     "data": {
      "image/png": "[encoded data removed]",
      "text/plain": [
       "<Figure size 432x288 with 1 Axes>"
      ]
     },
     "metadata": {},
     "output_type": "display_data"
    }
   ],
   "source": [
    "klist = [i for i in range(3,50,2)]\n",
    "plt.plot(klist,acc1,'-',linewidth=3)\n",
    "plt.plot(klist,acc2,'-',linewidth=3)\n",
    "plt.xlabel('k')\n",
    "plt.ylabel('accuracy')\n",
    "plt.grid(True)\n",
    "plt.legend(['No Relabel', 'Relabel'])\n",
    "plt.title('kNN accuracy without data scaling')"
   ]
  },
  {
   "cell_type": "code",
   "execution_count": 17,
   "metadata": {},
   "outputs": [
    {
     "data": {
      "text/plain": [
       "array([[-0.01408451, -0.50909091, -0.56626506, ...,  0.57068063,\n",
       "        -0.16666667,  0.23943662],\n",
       "       [-0.11267606, -0.45454545, -0.59036145, ...,  0.72774869,\n",
       "        -0.09259259,  0.33802817],\n",
       "       [ 0.14084507, -0.49090909, -0.51807229, ...,  0.70680628,\n",
       "        -0.18518519,  0.42253521],\n",
       "       ...,\n",
       "       [-0.08450704, -0.56363636, -0.77108434, ...,  0.56544503,\n",
       "        -0.14814815,  0.32394366],\n",
       "       [-0.22535211, -0.47272727, -0.63855422, ...,  0.7486911 ,\n",
       "        -0.2962963 ,  0.8028169 ],\n",
       "       [-0.15492958, -0.61818182, -0.54216867, ...,  0.70680628,\n",
       "        -0.40740741,  0.66197183]])"
      ]
     },
     "execution_count": 17,
     "metadata": {},
     "output_type": "execute_result"
    }
   ],
   "source": [
    "\n",
    "fixed_acidity = dfWhite['fixed acidity'].values\n",
    "fixed_acidity_max = np.max(fixed_acidity)\n",
    "fixed_acidity = 2*(fixed_acidity/fixed_acidity_max - 0.5)\n",
    "\n",
    "volatile_acidity = dfWhite['volatile acidity'].values\n",
    "volatile_acidity_max = np.max(volatile_acidity)\n",
    "volatile_acidity = 2*(volatile_acidity/volatile_acidity_max - 0.5)\n",
    "\n",
    "x_rescale = np.stack((fixed_acidity, volatile_acidity), axis=-1)\n",
    "\n",
    "\n",
    "for i in range(2,len(var)):\n",
    "    current_column = dfWhite[var[i]].values\n",
    "    current_column_max = np.max(current_column)\n",
    "    current_column = 2*(current_column/current_column_max - 0.5)\n",
    "    x_rescale = np.hstack((x_rescale, np.atleast_2d(current_column).T)) \n",
    "x_rescale"
   ]
  },
  {
   "cell_type": "code",
   "execution_count": 18,
   "metadata": {},
   "outputs": [
    {
     "name": "stdout",
     "output_type": "stream",
     "text": [
      "[[-0.01408451 -0.50909091 -0.56626506 ...  0.57068063 -0.16666667\n",
      "   0.23943662]\n",
      " [-0.11267606 -0.45454545 -0.59036145 ...  0.72774869 -0.09259259\n",
      "   0.33802817]\n",
      " [ 0.14084507 -0.49090909 -0.51807229 ...  0.70680628 -0.18518519\n",
      "   0.42253521]\n",
      " ...\n",
      " [-0.08450704 -0.56363636 -0.77108434 ...  0.56544503 -0.14814815\n",
      "   0.32394366]\n",
      " [-0.22535211 -0.47272727 -0.63855422 ...  0.7486911  -0.2962963\n",
      "   0.8028169 ]\n",
      " [-0.15492958 -0.61818182 -0.54216867 ...  0.70680628 -0.40740741\n",
      "   0.66197183]]\n",
      "42.41341757774353\n",
      "42.362932205200195\n"
     ]
    }
   ],
   "source": [
    "acc3 = []\n",
    "t = time.time()\n",
    "print(x_rescale)\n",
    "for k in range(3,50,2):\n",
    "    result = knnAccuracy(x_rescale, y_data_noRelabel, x_data_size, k)\n",
    "    acc3.append(result)\n",
    "elapsed = time.time()-t\n",
    "t = time.time()\n",
    "acc4 = []\n",
    "for k in range(3,50,2):\n",
    "    result = knnAccuracy(x_rescale, y_data_relabel, x_data_size, k)\n",
    "    acc4.append(result)\n",
    "elapsed2 = time.time()-t\n",
    "\n",
    "print(elapsed)\n",
    "print(elapsed2)"
   ]
  },
  {
   "cell_type": "code",
   "execution_count": 19,
   "metadata": {},
   "outputs": [
    {
     "data": {
      "text/plain": [
       "Text(0.5,1,'kNN accuracy with data scaling')"
      ]
     },
     "execution_count": 19,
     "metadata": {},
     "output_type": "execute_result"
    },
    {
     "data": {
      "image/png": "[encoded data removed]",
      "text/plain": [
       "<Figure size 432x288 with 1 Axes>"
      ]
     },
     "metadata": {},
     "output_type": "display_data"
    }
   ],
   "source": [
    "klist = [i for i in range(3,50,2)]\n",
    "plt.plot(klist,acc3,'-',linewidth=3)\n",
    "plt.plot(klist,acc4,'-',linewidth=3)\n",
    "plt.xlabel('k')\n",
    "plt.ylabel('accuracy')\n",
    "plt.grid(True)\n",
    "plt.legend(['No Relabel', 'Relabel'])\n",
    "plt.title('kNN accuracy with data scaling')"
   ]
  },
  {
   "cell_type": "code",
   "execution_count": 20,
   "metadata": {},
   "outputs": [
    {
     "name": "stdout",
     "output_type": "stream",
     "text": [
      "[0.7207023274806044, 0.592690894242548, 0.5704369130257247, 0.5438954675377705, 0.5289914250714577, 0.5228664761126991, 0.5128623928133932, 0.5022458146182115, 0.5014291547570436, 0.4993875051041241, 0.49755002041649654, 0.4904042466312781, 0.4873417721518987, 0.48264597795018377, 0.4850959575336872, 0.4797876684360964, 0.4812168231931401, 0.4804001633319722, 0.4820334830543079, 0.48346263781135157, 0.4883625969783585, 0.4867292772560229, 0.4832584728460596, 0.4806043282972642]\n",
      "[0.8399346672111065, 0.7660269497754185, 0.7366271947733769, 0.7190690077582687, 0.7145773785218457, 0.7094732543895468, 0.7027358105349122, 0.694365046957942, 0.6888525928950592, 0.685381788485096, 0.6839526337280523, 0.6835443037974683, 0.6780318497345855, 0.6753777051857901, 0.6727235606369947, 0.671294405879951, 0.6676194365046958, 0.6706819109840751, 0.6686402613311556, 0.6725193956717027, 0.6743568803593304, 0.6684360963658637, 0.6672111065741119, 0.666598611678236]\n",
      "[0.7623519804001634, 0.6565945283789302, 0.6457737852184565, 0.6284197631686402, 0.6135157207023275, 0.5990200081665986, 0.5928950592078399, 0.5845242956308697, 0.5855451204573295, 0.578399346672111, 0.5781951817068192, 0.578399346672111, 0.5722743977133524, 0.5681910984075133, 0.5657411188240098, 0.5655369538587178, 0.5659452837893018, 0.5590036749693753, 0.559820334830543, 0.5590036749693753, 0.5573703552470396, 0.555941200489996, 0.5581870151082075, 0.5579828501429155]\n",
      "[0.8697427521437321, 0.8072682727643936, 0.7952225398121683, 0.7852184565128624, 0.7797060024499796, 0.7678644344630461, 0.7631686402613311, 0.7525520620661494, 0.7556145365455288, 0.750306247447938, 0.7484687627603104, 0.7525520620661494, 0.7486729277256022, 0.7452021233156391, 0.7417313189056758, 0.7411188240097999, 0.7398938342180482, 0.7403021641486321, 0.7398938342180482, 0.7343813801551654, 0.736014699877501, 0.7366271947733769, 0.7347897100857493, 0.736218864842793]\n"
     ]
    }
   ],
   "source": []
  },
  {
   "cell_type": "code",
   "execution_count": null,
   "metadata": {},
   "outputs": [],
   "source": []
  }
 ],
 "metadata": {
  "kernelspec": {
   "display_name": "Python 3",
   "language": "python",
   "name": "python3"
  },
  "language_info": {
   "codemirror_mode": {
    "name": "ipython",
    "version": 3
   },
   "file_extension": ".py",
   "mimetype": "text/x-python",
   "name": "python",
   "nbconvert_exporter": "python",
   "pygments_lexer": "ipython3",
   "version": "3.6.5"
  }
 },
 "nbformat": 4,
 "nbformat_minor": 2
}
